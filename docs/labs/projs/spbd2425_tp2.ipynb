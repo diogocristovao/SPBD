{
  "nbformat": 4,
  "nbformat_minor": 0,
  "metadata": {
    "colab": {
      "provenance": [],
      "include_colab_link": true
    },
    "kernelspec": {
      "name": "python3",
      "display_name": "Python 3"
    },
    "language_info": {
      "name": "python"
    }
  },
  "cells": [
    {
      "cell_type": "markdown",
      "metadata": {
        "id": "view-in-github",
        "colab_type": "text"
      },
      "source": [
        "<a href=\"https://colab.research.google.com/github/diogocristovao/SPBD_tp1/blob/main/docs/labs/projs/spbd2425_tp2.ipynb\" target=\"_parent\"><img src=\"https://colab.research.google.com/assets/colab-badge.svg\" alt=\"Open In Colab\"/></a>"
      ]
    },
    {
      "cell_type": "markdown",
      "metadata": {
        "id": "KgFZlT_g8O1Y"
      },
      "source": [
        "# Sistemas para Processamento de Big Data\n",
        "## TP2 - Energy Meter Live Monitoring\n"
      ]
    },
    {
      "cell_type": "markdown",
      "source": [
        "The sensor data corresponds to regular readings from 11 residential energy meters. The data covers the month of February 2024.\n",
        "\n",
        "Each data sample has the following schema:\n",
        "\n",
        "timestamp | sensor_id | energy\n",
        "----------|-------------|-----------\n",
        "timestamp | string  | float\n",
        "\n",
        "Each energy value (KWh) corresponds to the accumulated value of the meter at the time of measurement. As such,\n",
        "each meter is expected to produce a monotonically increasing series of pairs of timestamp and energy consummed up to that moment.\n",
        "\n",
        "The meters do not start at zero or at the same value.\n"
      ],
      "metadata": {
        "id": "IRDJq9dL0GWA"
      }
    },
    {
      "cell_type": "markdown",
      "source": [
        "## Questions\n",
        "\n",
        "For all the sensors combined:\n",
        "\n",
        "1. For the current month and current day, compute the running total energy consumed so far. The values should be updated every 5 minutes.\n",
        "\n",
        "2. For the current month and current day, compute the running total energy consumed so far, **as a percentage**, **compared to the same periods in February 2024**. The values should be updated every 5 minutes.\n",
        "\n",
        "For each sensor, separately:\n",
        "\n",
        "3. For the current month and current day, compute the running total energy consumed so far, as a percentage, **comparing the value of each individual sensor, relative to the same results for all the sensors together (as in #1)**. The values should be updated every 5 minutes. (Sorted in descending order by value and sensor.)\n",
        "\n",
        "**Note:** For simplicity, it is fine to assume the first reading of each day can be used to start counting how much energy has been consumed so far. There is no need to interpolate/estimate the value of the meters at midnight.\n",
        "\n",
        "\n"
      ],
      "metadata": {
        "id": "HC6tMDOU7Fdb"
      }
    },
    {
      "cell_type": "markdown",
      "source": [
        "## Requeriments\n",
        "\n",
        "Solve each question using Structured Spark Streaming."
      ],
      "metadata": {
        "id": "kdTj-7SD-67o"
      }
    },
    {
      "cell_type": "markdown",
      "source": [
        "## Other Grading Criteria\n",
        "\n",
        "+ Grading will also take into account the general clarity of the programming and of the presentation report (notebook).\n",
        "\n",
        "\n"
      ],
      "metadata": {
        "id": "qN2ogthr_EIH"
      }
    },
    {
      "cell_type": "markdown",
      "source": [
        "### Deadline\n",
        "\n",
        "December 6.\n",
        "\n",
        "Penalty of 0.25 grade points per day late.\n",
        "\n",
        "Penalty accumulates until the grade of the assignment reaches 8.0."
      ],
      "metadata": {
        "id": "8M6lYfT_BpAO"
      }
    },
    {
      "cell_type": "markdown",
      "source": [
        "---\n",
        "### Colab Setup\n"
      ],
      "metadata": {
        "id": "81dR9BTgBg1s"
      }
    },
    {
      "cell_type": "code",
      "source": [
        "#@title Install PySpark\n",
        "!pip install pyspark --quiet"
      ],
      "metadata": {
        "id": "L2O_3I3x1dbx"
      },
      "execution_count": 1,
      "outputs": []
    },
    {
      "cell_type": "code",
      "source": [
        "#@title Download Archived February Energy Readings\n",
        "!wget -q -O /tmp/readings.csv https://raw.githubusercontent.com/smduarte/spbd-2425/refs/heads/main/docs/labs/projs/energy-readings.csv\n",
        "!grep \"2024-02\" /tmp/readings.csv > february-energy-readings.csv\n",
        "!head -2 february-energy-readings.csv\n"
      ],
      "metadata": {
        "id": "w38DVs9wBhhu",
        "outputId": "d1f5534c-74fa-4f4c-a3b1-a3cdc71f3e3d",
        "colab": {
          "base_uri": "https://localhost:8080/"
        }
      },
      "execution_count": 2,
      "outputs": [
        {
          "output_type": "stream",
          "name": "stdout",
          "text": [
            "2024-02-01 00:00:00;D;2615.0\n",
            "2024-02-01 00:00:18;C;1098.8\n"
          ]
        }
      ]
    },
    {
      "cell_type": "code",
      "source": [
        "#@title Start the Structured Source\n",
        "!wget -q -O - https://github.com/smduarte/spbd-2425/raw/main/scripts/json_energy_sender.tgz  | tar xfz - 2> /dev/null\n",
        "\n",
        "!nohup python json_energy_sender/server.py --filename json_energy_sender/energy-readings.csv --speedup 60 > /dev/null 2> /dev/null &"
      ],
      "metadata": {
        "id": "n4fbaIE0vedz"
      },
      "execution_count": 3,
      "outputs": []
    },
    {
      "cell_type": "markdown",
      "source": [
        "\n",
        "Note: --speedup 60, means the stream is played 60x faster than realtime. Therefore, 1 second in real time corresponds to 1 minute of stream data.\n"
      ],
      "metadata": {
        "id": "otl4V60lElrg"
      }
    },
    {
      "cell_type": "code",
      "source": [
        "#@title Sample code to process the structured stream...\n",
        "from pyspark.sql import *\n",
        "from pyspark.sql.functions import *\n",
        "\n",
        "spark = SparkSession \\\n",
        "    .builder \\\n",
        "    .appName(\"StructuredWebLogExample\") \\\n",
        "    .getOrCreate()\n",
        "\n",
        "\n",
        "# Extract a sample JSON string to infer schema\n",
        "sample_json = '{\"date\": \"2024-02-01 00:00:00\", \"sensor\": \"D\", \"energy\": 2615.0}'\n",
        "inferred_schema = schema_of_json(sample_json)\n",
        "\n",
        "\n",
        "# Create DataFrame representing the stream of input\n",
        "# lines from connection to logsender 7777\n",
        "try:\n",
        "  json_lines = spark.readStream.format(\"socket\") \\\n",
        "      .option(\"host\", \"localhost\") \\\n",
        "      .option(\"port\", 7777) \\\n",
        "      .load()\n",
        "\n",
        "  # Parse the JSON using the inferred schema\n",
        "  json_lines = json_lines.withColumn(\"json_data\", from_json(col(\"value\"), inferred_schema)) \\\n",
        "    .select(\"json_data.*\")  # Expand the JSON fields into columns\n",
        "\n",
        "\n",
        "  query = json_lines \\\n",
        "    .writeStream \\\n",
        "    .outputMode(\"append\") \\\n",
        "    .trigger(processingTime='1 seconds') \\\n",
        "    .foreachBatch(lambda df, epoch: df.show(10, False)) \\\n",
        "    .start()\n",
        "\n",
        "  query.awaitTermination(19)\n",
        "except Exception as err:\n",
        "  print(err)\n",
        "  query.stop()"
      ],
      "metadata": {
        "id": "5pzi95IkvgEZ",
        "collapsed": true,
        "outputId": "be1b575e-2f5a-4088-dc66-9d3f81d2ee4f",
        "colab": {
          "base_uri": "https://localhost:8080/"
        }
      },
      "execution_count": 4,
      "outputs": [
        {
          "output_type": "stream",
          "name": "stdout",
          "text": [
            "+----+------+------+\n",
            "|date|energy|sensor|\n",
            "+----+------+------+\n",
            "+----+------+------+\n",
            "\n",
            "+-------------------+-------+------+\n",
            "|date               |energy |sensor|\n",
            "+-------------------+-------+------+\n",
            "|2024-10-01 00:04:21|2790.18|C     |\n",
            "|2024-10-01 00:04:27|5949.0 |D     |\n",
            "|2024-10-01 00:04:36|2162.37|J     |\n",
            "|2024-10-01 00:04:52|2682.69|I     |\n",
            "|2024-10-01 00:04:24|3993.9 |H     |\n",
            "|2024-10-01 00:04:33|3481.07|E     |\n",
            "|2024-10-01 00:04:43|1597.49|F     |\n",
            "+-------------------+-------+------+\n",
            "\n",
            "+-------------------+-------+------+\n",
            "|date               |energy |sensor|\n",
            "+-------------------+-------+------+\n",
            "|2024-10-01 00:14:30|2790.19|C     |\n",
            "|2024-10-01 00:14:42|3481.08|E     |\n",
            "|2024-10-01 00:14:48|1668.96|B     |\n",
            "|2024-10-01 00:14:54|1649.25|A     |\n",
            "|2024-10-01 00:15:00|2682.71|I     |\n",
            "|2024-10-01 00:14:36|5949.1 |D     |\n",
            "|2024-10-01 00:14:45|2162.5 |J     |\n",
            "|2024-10-01 00:14:51|1597.5 |F     |\n",
            "|2024-10-01 00:14:57|2080.99|G     |\n",
            "+-------------------+-------+------+\n",
            "\n"
          ]
        }
      ]
    },
    {
      "cell_type": "markdown",
      "source": [
        "Question 1"
      ],
      "metadata": {
        "id": "m-jG6tTIYGJ9"
      }
    },
    {
      "cell_type": "code",
      "source": [
        "from pyspark.sql import *\n",
        "from pyspark.sql.functions import *\n",
        "\n",
        "# Initialize Spark session\n",
        "spark = SparkSession \\\n",
        "    .builder \\\n",
        "    .appName(\"EnergyMeterMonitoring\") \\\n",
        "    .getOrCreate()\n",
        "\n",
        "# Infer schema from a sample JSON\n",
        "sample_json = '{\"date\": \"2024-02-01 00:00:00\", \"sensor\": \"D\", \"energy\": 2615.0}'\n",
        "inferred_schema = schema_of_json(sample_json)\n",
        "\n",
        "try:\n",
        "    # Create DataFrame representing the stream of input\n",
        "    json_lines = spark.readStream.format(\"socket\") \\\n",
        "        .option(\"host\", \"localhost\") \\\n",
        "        .option(\"port\", 7777) \\\n",
        "        .load()\n",
        "\n",
        "    # Debug: Check raw data\n",
        "    raw_query = json_lines.writeStream \\\n",
        "        .outputMode(\"append\") \\\n",
        "        .format(\"console\") \\\n",
        "        .option(\"truncate\", False) \\\n",
        "        .start()\n",
        "\n",
        "    raw_query.awaitTermination(10)  # Run this for 10 seconds to confirm data is coming in\n",
        "\n",
        "    # Parse the JSON data\n",
        "    parsed_stream = json_lines.withColumn(\"json_data\", from_json(col(\"value\"), inferred_schema)) \\\n",
        "        .selectExpr(\"json_data.date as timestamp\", \"json_data.sensor as sensor_id\", \"json_data.energy as energy\") \\\n",
        "        .withColumn(\"timestamp\", to_timestamp(col(\"timestamp\")))  # Convert timestamp to proper type\n",
        "\n",
        "    # Debug: Check parsed data\n",
        "    parsed_query = parsed_stream.writeStream \\\n",
        "        .outputMode(\"append\") \\\n",
        "        .format(\"console\") \\\n",
        "        .option(\"truncate\", False) \\\n",
        "        .start()\n",
        "\n",
        "    parsed_query.awaitTermination(10)  # Run this for 10 seconds to confirm parsing works\n",
        "\n",
        "    # Calculate the running total using aggregation over all data\n",
        "    running_total = parsed_stream \\\n",
        "        .agg(sum(\"energy\").alias(\"cumulative_energy\"))\n",
        "\n",
        "    # Write the running total to the console\n",
        "    query = running_total.writeStream \\\n",
        "        .outputMode(\"complete\") \\\n",
        "        .format(\"console\") \\\n",
        "        .option(\"truncate\", False) \\\n",
        "        .trigger(processingTime=\"5 minutes\")\\\n",
        "        .start()\n",
        "\n",
        "    query.awaitTermination(30)  # Run for 30 seconds\n",
        "except Exception as err:\n",
        "    print(f\"Error: {err}\")\n",
        "    if 'query' in locals():\n",
        "        query.stop()\n"
      ],
      "metadata": {
        "id": "sKfw2q0-lz1T",
        "outputId": "defd113b-48eb-4d39-add0-6605afa9faca",
        "colab": {
          "base_uri": "https://localhost:8080/"
        }
      },
      "execution_count": 5,
      "outputs": [
        {
          "output_type": "stream",
          "name": "stdout",
          "text": [
            "+-------------------+-------+------+\n",
            "|date               |energy |sensor|\n",
            "+-------------------+-------+------+\n",
            "|2024-10-01 00:24:38|2790.2 |C     |\n",
            "|2024-10-01 00:24:44|5949.1 |D     |\n",
            "|2024-10-01 00:24:57|1668.98|B     |\n",
            "|2024-10-01 00:25:06|2081.01|G     |\n",
            "|2024-10-01 00:24:41|3993.95|H     |\n",
            "|2024-10-01 00:24:51|3481.09|E     |\n",
            "|2024-10-01 00:25:03|1649.26|A     |\n",
            "|2024-10-01 00:25:09|2682.72|I     |\n",
            "+-------------------+-------+------+\n",
            "\n",
            "+-------------------+-------+------+\n",
            "|date               |energy |sensor|\n",
            "+-------------------+-------+------+\n",
            "|2024-10-01 00:34:47|2790.21|C     |\n",
            "|2024-10-01 00:34:53|5949.1 |D     |\n",
            "|2024-10-01 00:35:03|2162.51|J     |\n",
            "|2024-10-01 00:35:09|1597.51|F     |\n",
            "|2024-10-01 00:34:50|3993.96|H     |\n",
            "|2024-10-01 00:34:59|3481.1 |E     |\n",
            "|2024-10-01 00:35:06|1668.99|B     |\n",
            "+-------------------+-------+------+\n",
            "\n",
            "+-------------------+-------+------+\n",
            "|date               |energy |sensor|\n",
            "+-------------------+-------+------+\n",
            "|2024-10-01 00:35:12|1649.27|A     |\n",
            "|2024-10-01 00:35:18|2682.74|I     |\n",
            "|2024-10-01 00:35:15|2081.02|G     |\n",
            "+-------------------+-------+------+\n",
            "\n",
            "+-------------------+-------+------+\n",
            "|date               |energy |sensor|\n",
            "+-------------------+-------+------+\n",
            "|2024-10-01 00:44:56|2790.22|C     |\n",
            "|2024-10-01 00:45:02|5949.2 |D     |\n",
            "|2024-10-01 00:44:59|3993.97|H     |\n",
            "+-------------------+-------+------+\n",
            "\n",
            "+-------------------+-------+------+\n",
            "|date               |energy |sensor|\n",
            "+-------------------+-------+------+\n",
            "|2024-10-01 00:45:20|1649.31|A     |\n",
            "|2024-10-01 00:45:27|2682.75|I     |\n",
            "+-------------------+-------+------+\n",
            "\n",
            "+-------------------+-------+------+\n",
            "|date               |energy |sensor|\n",
            "+-------------------+-------+------+\n",
            "|2024-10-01 00:55:05|2790.24|C     |\n",
            "|2024-10-01 00:55:11|5949.2 |D     |\n",
            "|2024-10-01 00:55:08|3993.98|H     |\n",
            "+-------------------+-------+------+\n",
            "\n",
            "+-------------------+-------+------+\n",
            "|date               |energy |sensor|\n",
            "+-------------------+-------+------+\n",
            "|2024-10-01 00:55:14|2147.11|K     |\n",
            "|2024-10-01 00:55:20|2162.52|J     |\n",
            "|2024-10-01 00:55:29|1649.5 |A     |\n",
            "|2024-10-01 00:55:17|3481.11|E     |\n",
            "|2024-10-01 00:55:26|1597.52|F     |\n",
            "+-------------------+-------+------+\n",
            "\n",
            "+-------------------+-------+------+\n",
            "|date               |energy |sensor|\n",
            "+-------------------+-------+------+\n",
            "|2024-10-01 01:05:13|2790.25|C     |\n",
            "|2024-10-01 01:05:20|5949.3 |D     |\n",
            "|2024-10-01 01:05:26|3481.12|E     |\n",
            "|2024-10-01 01:05:32|1669.01|B     |\n",
            "|2024-10-01 01:05:38|1649.7 |A     |\n",
            "|2024-10-01 01:05:17|3994.0 |H     |\n",
            "|2024-10-01 01:05:23|2147.12|K     |\n",
            "|2024-10-01 01:05:29|2162.54|J     |\n",
            "|2024-10-01 01:05:35|1597.53|F     |\n",
            "|2024-10-01 01:05:44|2682.76|I     |\n",
            "+-------------------+-------+------+\n",
            "\n"
          ]
        }
      ]
    }
  ]
}