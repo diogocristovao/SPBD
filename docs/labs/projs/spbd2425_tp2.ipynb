{
  "nbformat": 4,
  "nbformat_minor": 0,
  "metadata": {
    "colab": {
      "provenance": [],
      "include_colab_link": true
    },
    "kernelspec": {
      "name": "python3",
      "display_name": "Python 3"
    },
    "language_info": {
      "name": "python"
    }
  },
  "cells": [
    {
      "cell_type": "markdown",
      "metadata": {
        "id": "view-in-github",
        "colab_type": "text"
      },
      "source": [
        "<a href=\"https://colab.research.google.com/github/diogocristovao/SPBD_tp1/blob/main/docs/labs/projs/spbd2425_tp2.ipynb\" target=\"_parent\"><img src=\"https://colab.research.google.com/assets/colab-badge.svg\" alt=\"Open In Colab\"/></a>"
      ]
    },
    {
      "cell_type": "markdown",
      "metadata": {
        "id": "KgFZlT_g8O1Y"
      },
      "source": [
        "# Sistemas para Processamento de Big Data\n",
        "## TP2 - Energy Meter Live Monitoring\n"
      ]
    },
    {
      "cell_type": "markdown",
      "source": [
        "The sensor data corresponds to regular readings from 11 residential energy meters. The data covers the month of February 2024.\n",
        "\n",
        "Each data sample has the following schema:\n",
        "\n",
        "timestamp | sensor_id | energy\n",
        "----------|-------------|-----------\n",
        "timestamp | string  | float\n",
        "\n",
        "Each energy value (KWh) corresponds to the accumulated value of the meter at the time of measurement. As such,\n",
        "each meter is expected to produce a monotonically increasing series of pairs of timestamp and energy consummed up to that moment.\n",
        "\n",
        "The meters do not start at zero or at the same value.\n"
      ],
      "metadata": {
        "id": "IRDJq9dL0GWA"
      }
    },
    {
      "cell_type": "markdown",
      "source": [
        "## Questions\n",
        "\n",
        "For all the sensors combined:\n",
        "\n",
        "1. For the current month and current day, compute the running total energy consumed so far. The values should be updated every 5 minutes.\n",
        "\n",
        "2. For the current month and current day, compute the running total energy consumed so far, **as a percentage**, **compared to the same periods in February 2024**. The values should be updated every 5 minutes.\n",
        "\n",
        "For each sensor, separately:\n",
        "\n",
        "3. For the current month and current day, compute the running total energy consumed so far, as a percentage, **comparing the value of each individual sensor, relative to the same results for all the sensors together (as in #1)**. The values should be updated every 5 minutes. (Sorted in descending order by value and sensor.)\n",
        "\n",
        "**Note:** For simplicity, it is fine to assume the first reading of each day can be used to start counting how much energy has been consumed so far. There is no need to interpolate/estimate the value of the meters at midnight.\n",
        "\n",
        "\n"
      ],
      "metadata": {
        "id": "HC6tMDOU7Fdb"
      }
    },
    {
      "cell_type": "markdown",
      "source": [
        "## Requeriments\n",
        "\n",
        "Solve each question using Structured Spark Streaming."
      ],
      "metadata": {
        "id": "kdTj-7SD-67o"
      }
    },
    {
      "cell_type": "markdown",
      "source": [
        "## Other Grading Criteria\n",
        "\n",
        "+ Grading will also take into account the general clarity of the programming and of the presentation report (notebook).\n",
        "\n",
        "\n"
      ],
      "metadata": {
        "id": "qN2ogthr_EIH"
      }
    },
    {
      "cell_type": "markdown",
      "source": [
        "### Deadline\n",
        "\n",
        "December 6.\n",
        "\n",
        "Penalty of 0.25 grade points per day late.\n",
        "\n",
        "Penalty accumulates until the grade of the assignment reaches 8.0."
      ],
      "metadata": {
        "id": "8M6lYfT_BpAO"
      }
    },
    {
      "cell_type": "markdown",
      "source": [
        "---\n",
        "### Colab Setup\n"
      ],
      "metadata": {
        "id": "81dR9BTgBg1s"
      }
    },
    {
      "cell_type": "code",
      "source": [
        "#@title Install PySpark\n",
        "!pip install pyspark --quiet"
      ],
      "metadata": {
        "id": "L2O_3I3x1dbx"
      },
      "execution_count": null,
      "outputs": []
    },
    {
      "cell_type": "code",
      "source": [
        "#@title Download Archived February Energy Readings\n",
        "!wget -q -O /tmp/readings.csv https://raw.githubusercontent.com/smduarte/spbd-2425/refs/heads/main/docs/labs/projs/energy-readings.csv\n",
        "!grep \"2024-02\" /tmp/readings.csv > february-energy-readings.csv\n",
        "!head -2 february-energy-readings.csv\n"
      ],
      "metadata": {
        "id": "w38DVs9wBhhu",
        "outputId": "7582198a-09ab-4e64-c54d-6c853a79f29b",
        "colab": {
          "base_uri": "https://localhost:8080/"
        }
      },
      "execution_count": 1,
      "outputs": [
        {
          "output_type": "stream",
          "name": "stdout",
          "text": [
            "2024-02-01 00:00:00;D;2615.0\n",
            "2024-02-01 00:00:18;C;1098.8\n"
          ]
        }
      ]
    },
    {
      "cell_type": "code",
      "source": [
        "#@title Start the Structured Source\n",
        "!wget -q -O - https://github.com/smduarte/spbd-2425/raw/main/scripts/json_energy_sender.tgz  | tar xfz - 2> /dev/null\n",
        "\n",
        "!nohup python json_energy_sender/server.py --filename february-energy-readings.csv --speedup 60 > /dev/null 2> /dev/null &\n"
      ],
      "metadata": {
        "id": "n4fbaIE0vedz"
      },
      "execution_count": 9,
      "outputs": []
    },
    {
      "cell_type": "code",
      "source": [
        "query.stop()"
      ],
      "metadata": {
        "id": "UgPJ8oP_U5Cy"
      },
      "execution_count": 12,
      "outputs": []
    },
    {
      "cell_type": "markdown",
      "source": [
        "\n",
        "Note: --speedup 60, means the stream is played 60x faster than realtime. Therefore, 1 second in real time corresponds to 1 minute of stream data.\n"
      ],
      "metadata": {
        "id": "otl4V60lElrg"
      }
    },
    {
      "cell_type": "code",
      "source": [
        "#@title Sample code to process the structured stream...\n",
        "from pyspark.sql import *\n",
        "from pyspark.sql.functions import *\n",
        "\n",
        "spark = SparkSession \\\n",
        "    .builder \\\n",
        "    .appName(\"StructuredWebLogExample\") \\\n",
        "    .getOrCreate()\n",
        "\n",
        "\n",
        "# Extract a sample JSON string to infer schema\n",
        "sample_json = '{\"date\": \"2024-02-01 00:00:00\", \"sensor\": \"D\", \"energy\": 2615.0}'\n",
        "inferred_schema = schema_of_json(sample_json)\n",
        "\n",
        "\n",
        "# Create DataFrame representing the stream of input\n",
        "# lines from connection to logsender 7777\n",
        "try:\n",
        "  json_lines = spark.readStream.format(\"socket\") \\\n",
        "      .option(\"host\", \"localhost\") \\\n",
        "      .option(\"port\", 7777) \\\n",
        "      .load()\n",
        "\n",
        "  # Parse the JSON using the inferred schema\n",
        "  json_lines = json_lines.withColumn(\"json_data\", from_json(col(\"value\"), inferred_schema)) \\\n",
        "    .select(\"json_data.*\")  # Expand the JSON fields into columns\n",
        "\n",
        "\n",
        "  query = json_lines \\\n",
        "    .writeStream \\\n",
        "    .outputMode(\"append\") \\\n",
        "    .trigger(processingTime='1 seconds') \\\n",
        "    .foreachBatch(lambda df, epoch: df.show(10, False)) \\\n",
        "    .start()\n",
        "\n",
        "  query.awaitTermination(10)\n",
        "except Exception as err:\n",
        "  print(err)\n",
        "  query.stop()"
      ],
      "metadata": {
        "id": "5pzi95IkvgEZ",
        "collapsed": true,
        "outputId": "6222261f-4cce-4286-887f-8d53d567b53c",
        "colab": {
          "base_uri": "https://localhost:8080/"
        }
      },
      "execution_count": 13,
      "outputs": [
        {
          "output_type": "stream",
          "name": "stdout",
          "text": [
            "+----+------+------+\n",
            "|date|energy|sensor|\n",
            "+----+------+------+\n",
            "+----+------+------+\n",
            "\n",
            "+-------------------+------+------+\n",
            "|date               |energy|sensor|\n",
            "+-------------------+------+------+\n",
            "|2024-02-01 00:00:00|2615.0|D     |\n",
            "|2024-02-01 00:00:25|650.5 |A     |\n",
            "|2024-02-01 00:00:18|1098.8|C     |\n",
            "+-------------------+------+------+\n",
            "\n",
            "+-------------------+------+------+\n",
            "|date               |energy|sensor|\n",
            "+-------------------+------+------+\n",
            "|2024-02-01 00:00:33|966.7 |J     |\n",
            "|2024-02-01 00:00:54|1874.0|E     |\n",
            "|2024-02-01 00:00:42|2145.4|H     |\n",
            "+-------------------+------+------+\n",
            "\n",
            "+-------------------+------+------+\n",
            "|date               |energy|sensor|\n",
            "+-------------------+------+------+\n",
            "|2024-02-01 00:01:52|841.2 |K     |\n",
            "|2024-02-01 00:02:20|927.2 |I     |\n",
            "|2024-02-01 00:02:00|1874.1|E     |\n",
            "+-------------------+------+------+\n",
            "\n",
            "+-------------------+------+------+\n",
            "|date               |energy|sensor|\n",
            "+-------------------+------+------+\n",
            "|2024-02-01 00:02:36|841.3 |K     |\n",
            "|2024-02-01 00:03:24|833.7 |G     |\n",
            "+-------------------+------+------+\n",
            "\n",
            "+-------------------+------+------+\n",
            "|date               |energy|sensor|\n",
            "+-------------------+------+------+\n",
            "|2024-02-01 00:03:32|627.5 |B     |\n",
            "|2024-02-01 00:04:24|2615.1|D     |\n",
            "+-------------------+------+------+\n",
            "\n",
            "+-------------------+------+------+\n",
            "|date               |energy|sensor|\n",
            "+-------------------+------+------+\n",
            "|2024-02-01 00:04:40|748.0 |F     |\n",
            "|2024-02-01 00:04:44|2145.5|H     |\n",
            "+-------------------+------+------+\n",
            "\n",
            "+-------------------+------+------+\n",
            "|date               |energy|sensor|\n",
            "+-------------------+------+------+\n",
            "|2024-02-01 00:05:26|1098.8|C     |\n",
            "|2024-02-01 00:05:42|966.7 |J     |\n",
            "|2024-02-01 00:05:34|650.5 |A     |\n",
            "|2024-02-01 00:05:46|748.1 |F     |\n",
            "+-------------------+------+------+\n",
            "\n",
            "+-------------------+------+------+\n",
            "|date               |energy|sensor|\n",
            "+-------------------+------+------+\n",
            "|2024-02-01 00:06:26|966.8 |J     |\n",
            "|2024-02-01 00:07:08|1874.1|E     |\n",
            "|2024-02-01 00:07:04|833.8 |G     |\n",
            "+-------------------+------+------+\n",
            "\n",
            "+-------------------+------+------+\n",
            "|date               |energy|sensor|\n",
            "+-------------------+------+------+\n",
            "|2024-02-01 00:07:28|927.2 |I     |\n",
            "|2024-02-01 00:07:44|841.3 |K     |\n",
            "+-------------------+------+------+\n",
            "\n",
            "+-------------------+------+------+\n",
            "|date               |energy|sensor|\n",
            "+-------------------+------+------+\n",
            "|2024-02-01 00:08:36|1874.2|E     |\n",
            "|2024-02-01 00:08:46|2145.6|H     |\n",
            "|2024-02-01 00:08:40|627.5 |B     |\n",
            "|2024-02-01 00:08:48|2615.2|D     |\n",
            "+-------------------+------+------+\n",
            "\n",
            "+-------------------+------+------+\n",
            "|date               |energy|sensor|\n",
            "+-------------------+------+------+\n",
            "|2024-02-01 00:10:34|1098.8|C     |\n",
            "|2024-02-01 00:10:54|748.1 |F     |\n",
            "|2024-02-01 00:10:42|650.5 |A     |\n",
            "+-------------------+------+------+\n",
            "\n",
            "+-------------------+------+------+\n",
            "|date               |energy|sensor|\n",
            "+-------------------+------+------+\n",
            "|2024-02-01 00:11:34|966.8 |J     |\n",
            "|2024-02-01 00:12:12|833.8 |G     |\n",
            "+-------------------+------+------+\n",
            "\n",
            "+-------------------+------+------+\n",
            "|date               |energy|sensor|\n",
            "+-------------------+------+------+\n",
            "|2024-02-01 00:12:36|927.2 |I     |\n",
            "|2024-02-01 00:12:52|841.3 |K     |\n",
            "|2024-02-01 00:12:48|2145.7|H     |\n",
            "+-------------------+------+------+\n",
            "\n",
            "+-------------------+------+------+\n",
            "|date               |energy|sensor|\n",
            "+-------------------+------+------+\n",
            "|2024-02-01 00:13:34|2615.3|D     |\n",
            "|2024-02-01 00:13:48|627.5 |B     |\n",
            "|2024-02-01 00:13:44|1874.2|E     |\n",
            "+-------------------+------+------+\n",
            "\n",
            "+-------------------+------+------+\n",
            "|date               |energy|sensor|\n",
            "+-------------------+------+------+\n",
            "|2024-02-01 00:14:50|1874.3|E     |\n",
            "|2024-02-01 00:15:18|748.2 |F     |\n",
            "+-------------------+------+------+\n",
            "\n",
            "+-------------------+------+------+\n",
            "|date               |energy|sensor|\n",
            "+-------------------+------+------+\n",
            "|2024-02-01 00:15:42|1098.8|C     |\n",
            "|2024-02-01 00:15:50|650.5 |A     |\n",
            "+-------------------+------+------+\n",
            "\n",
            "+-------------------+------+------+\n",
            "|date               |energy|sensor|\n",
            "+-------------------+------+------+\n",
            "|2024-02-01 00:16:42|966.8 |J     |\n",
            "|2024-02-01 00:17:20|833.8 |G     |\n",
            "|2024-02-01 00:16:50|2145.8|H     |\n",
            "+-------------------+------+------+\n",
            "\n",
            "+-------------------+------+------+\n",
            "|date               |energy|sensor|\n",
            "+-------------------+------+------+\n",
            "|2024-02-01 00:17:44|927.2 |I     |\n",
            "|2024-02-01 00:17:58|2615.4|D     |\n",
            "|2024-02-01 00:17:48|966.9 |J     |\n",
            "|2024-02-01 00:18:00|841.3 |K     |\n",
            "+-------------------+------+------+\n",
            "\n"
          ]
        }
      ]
    },
    {
      "cell_type": "markdown",
      "source": [
        "Question 1"
      ],
      "metadata": {
        "id": "m-jG6tTIYGJ9"
      }
    },
    {
      "cell_type": "code",
      "source": [
        "from pyspark.sql import *\n",
        "from pyspark.sql.functions import *\n",
        "from pyspark.sql.types import StructType, StructField, StringType, FloatType\n",
        "\n",
        "# Initialize Spark session\n",
        "spark = SparkSession \\\n",
        "    .builder \\\n",
        "    .appName(\"EnergyMeterRunningTotal\") \\\n",
        "    .getOrCreate()\n",
        "\n",
        "# Infer schema from a sample JSON\n",
        "sample_json = '{\"date\": \"2024-02-01 00:00:00\", \"sensor\": \"D\", \"energy\": 2615.0}'\n",
        "inferred_schema = schema_of_json(sample_json)\n",
        "\n",
        "try:\n",
        "    # Create DataFrame representing the stream of input\n",
        "    json_lines = spark.readStream.format(\"socket\") \\\n",
        "        .option(\"host\", \"localhost\") \\\n",
        "        .option(\"port\", 7777) \\\n",
        "        .load()\n",
        "\n",
        "    # Parse the JSON data\n",
        "    parsed_stream = json_lines.withColumn(\"json_data\", from_json(col(\"value\"), inferred_schema)) \\\n",
        "        .selectExpr(\"json_data.date as timestamp\", \"json_data.sensor as sensor_id\", \"json_data.energy as energy\") \\\n",
        "        .withColumn(\"timestamp\", to_timestamp(col(\"timestamp\")))  # Convert timestamp to proper type\n",
        "\n",
        "    # Filter for the current month (February)\n",
        "    filtered_stream = parsed_stream.filter(month(col(\"timestamp\")) == 2)\n",
        "\n",
        "    # Define update function for the accumulated state\n",
        "    def update_running_total(batch_df, epoch_id, state={}):\n",
        "        # Calculate total energy in the current batch\n",
        "        batch_total = batch_df.agg(sum(\"energy\")).collect()[0][0]\n",
        "        # Update the state with the current batch total\n",
        "        state[\"total_energy\"] = state.get(\"total_energy\", 0) + (batch_total if batch_total else 0)\n",
        "        # Print the running total\n",
        "        print(f\"Running Total Energy: {state['total_energy']}\")\n",
        "\n",
        "    # Process the stream in batches and update the running total\n",
        "    query = filtered_stream.writeStream \\\n",
        "        .foreachBatch(update_running_total) \\\n",
        "        .trigger(processingTime=\"5 minutes\") \\\n",
        "        .start()\n",
        "\n",
        "    query.awaitTermination()\n",
        "except Exception as err:\n",
        "    print(f\"Error: {err}\")\n",
        "    if 'query' in locals():\n",
        "        query.stop()\n"
      ],
      "metadata": {
        "id": "sKfw2q0-lz1T",
        "outputId": "35b9693f-7711-40f3-84ab-d00648b4d0b2",
        "colab": {
          "base_uri": "https://localhost:8080/",
          "height": 552
        }
      },
      "execution_count": 18,
      "outputs": [
        {
          "output_type": "stream",
          "name": "stdout",
          "text": [
            "Running Total Energy: 0\n"
          ]
        },
        {
          "output_type": "stream",
          "name": "stderr",
          "text": [
            "ERROR:root:KeyboardInterrupt while sending command.\n",
            "Traceback (most recent call last):\n",
            "  File \"/usr/local/lib/python3.10/dist-packages/py4j/java_gateway.py\", line 1038, in send_command\n",
            "    response = connection.send_command(command)\n",
            "  File \"/usr/local/lib/python3.10/dist-packages/py4j/clientserver.py\", line 511, in send_command\n",
            "    answer = smart_decode(self.stream.readline()[:-1])\n",
            "  File \"/usr/lib/python3.10/socket.py\", line 705, in readinto\n",
            "    return self._sock.recv_into(b)\n",
            "KeyboardInterrupt\n"
          ]
        },
        {
          "output_type": "error",
          "ename": "KeyboardInterrupt",
          "evalue": "",
          "traceback": [
            "\u001b[0;31m---------------------------------------------------------------------------\u001b[0m",
            "\u001b[0;31mKeyboardInterrupt\u001b[0m                         Traceback (most recent call last)",
            "\u001b[0;32m<ipython-input-18-6b917f8fd138>\u001b[0m in \u001b[0;36m<cell line: 15>\u001b[0;34m()\u001b[0m\n\u001b[1;32m     43\u001b[0m         \u001b[0;34m.\u001b[0m\u001b[0mstart\u001b[0m\u001b[0;34m(\u001b[0m\u001b[0;34m)\u001b[0m\u001b[0;34m\u001b[0m\u001b[0;34m\u001b[0m\u001b[0m\n\u001b[1;32m     44\u001b[0m \u001b[0;34m\u001b[0m\u001b[0m\n\u001b[0;32m---> 45\u001b[0;31m     \u001b[0mquery\u001b[0m\u001b[0;34m.\u001b[0m\u001b[0mawaitTermination\u001b[0m\u001b[0;34m(\u001b[0m\u001b[0;34m)\u001b[0m\u001b[0;34m\u001b[0m\u001b[0;34m\u001b[0m\u001b[0m\n\u001b[0m\u001b[1;32m     46\u001b[0m \u001b[0;32mexcept\u001b[0m \u001b[0mException\u001b[0m \u001b[0;32mas\u001b[0m \u001b[0merr\u001b[0m\u001b[0;34m:\u001b[0m\u001b[0;34m\u001b[0m\u001b[0;34m\u001b[0m\u001b[0m\n\u001b[1;32m     47\u001b[0m     \u001b[0mprint\u001b[0m\u001b[0;34m(\u001b[0m\u001b[0;34mf\"Error: {err}\"\u001b[0m\u001b[0;34m)\u001b[0m\u001b[0;34m\u001b[0m\u001b[0;34m\u001b[0m\u001b[0m\n",
            "\u001b[0;32m/usr/local/lib/python3.10/dist-packages/pyspark/sql/streaming/query.py\u001b[0m in \u001b[0;36mawaitTermination\u001b[0;34m(self, timeout)\u001b[0m\n\u001b[1;32m    219\u001b[0m             \u001b[0;32mreturn\u001b[0m \u001b[0mself\u001b[0m\u001b[0;34m.\u001b[0m\u001b[0m_jsq\u001b[0m\u001b[0;34m.\u001b[0m\u001b[0mawaitTermination\u001b[0m\u001b[0;34m(\u001b[0m\u001b[0mint\u001b[0m\u001b[0;34m(\u001b[0m\u001b[0mtimeout\u001b[0m \u001b[0;34m*\u001b[0m \u001b[0;36m1000\u001b[0m\u001b[0;34m)\u001b[0m\u001b[0;34m)\u001b[0m\u001b[0;34m\u001b[0m\u001b[0;34m\u001b[0m\u001b[0m\n\u001b[1;32m    220\u001b[0m         \u001b[0;32melse\u001b[0m\u001b[0;34m:\u001b[0m\u001b[0;34m\u001b[0m\u001b[0;34m\u001b[0m\u001b[0m\n\u001b[0;32m--> 221\u001b[0;31m             \u001b[0;32mreturn\u001b[0m \u001b[0mself\u001b[0m\u001b[0;34m.\u001b[0m\u001b[0m_jsq\u001b[0m\u001b[0;34m.\u001b[0m\u001b[0mawaitTermination\u001b[0m\u001b[0;34m(\u001b[0m\u001b[0;34m)\u001b[0m\u001b[0;34m\u001b[0m\u001b[0;34m\u001b[0m\u001b[0m\n\u001b[0m\u001b[1;32m    222\u001b[0m \u001b[0;34m\u001b[0m\u001b[0m\n\u001b[1;32m    223\u001b[0m     \u001b[0;34m@\u001b[0m\u001b[0mproperty\u001b[0m\u001b[0;34m\u001b[0m\u001b[0;34m\u001b[0m\u001b[0m\n",
            "\u001b[0;32m/usr/local/lib/python3.10/dist-packages/py4j/java_gateway.py\u001b[0m in \u001b[0;36m__call__\u001b[0;34m(self, *args)\u001b[0m\n\u001b[1;32m   1319\u001b[0m             \u001b[0mproto\u001b[0m\u001b[0;34m.\u001b[0m\u001b[0mEND_COMMAND_PART\u001b[0m\u001b[0;34m\u001b[0m\u001b[0;34m\u001b[0m\u001b[0m\n\u001b[1;32m   1320\u001b[0m \u001b[0;34m\u001b[0m\u001b[0m\n\u001b[0;32m-> 1321\u001b[0;31m         \u001b[0manswer\u001b[0m \u001b[0;34m=\u001b[0m \u001b[0mself\u001b[0m\u001b[0;34m.\u001b[0m\u001b[0mgateway_client\u001b[0m\u001b[0;34m.\u001b[0m\u001b[0msend_command\u001b[0m\u001b[0;34m(\u001b[0m\u001b[0mcommand\u001b[0m\u001b[0;34m)\u001b[0m\u001b[0;34m\u001b[0m\u001b[0;34m\u001b[0m\u001b[0m\n\u001b[0m\u001b[1;32m   1322\u001b[0m         return_value = get_return_value(\n\u001b[1;32m   1323\u001b[0m             answer, self.gateway_client, self.target_id, self.name)\n",
            "\u001b[0;32m/usr/local/lib/python3.10/dist-packages/py4j/java_gateway.py\u001b[0m in \u001b[0;36msend_command\u001b[0;34m(self, command, retry, binary)\u001b[0m\n\u001b[1;32m   1036\u001b[0m         \u001b[0mconnection\u001b[0m \u001b[0;34m=\u001b[0m \u001b[0mself\u001b[0m\u001b[0;34m.\u001b[0m\u001b[0m_get_connection\u001b[0m\u001b[0;34m(\u001b[0m\u001b[0;34m)\u001b[0m\u001b[0;34m\u001b[0m\u001b[0;34m\u001b[0m\u001b[0m\n\u001b[1;32m   1037\u001b[0m         \u001b[0;32mtry\u001b[0m\u001b[0;34m:\u001b[0m\u001b[0;34m\u001b[0m\u001b[0;34m\u001b[0m\u001b[0m\n\u001b[0;32m-> 1038\u001b[0;31m             \u001b[0mresponse\u001b[0m \u001b[0;34m=\u001b[0m \u001b[0mconnection\u001b[0m\u001b[0;34m.\u001b[0m\u001b[0msend_command\u001b[0m\u001b[0;34m(\u001b[0m\u001b[0mcommand\u001b[0m\u001b[0;34m)\u001b[0m\u001b[0;34m\u001b[0m\u001b[0;34m\u001b[0m\u001b[0m\n\u001b[0m\u001b[1;32m   1039\u001b[0m             \u001b[0;32mif\u001b[0m \u001b[0mbinary\u001b[0m\u001b[0;34m:\u001b[0m\u001b[0;34m\u001b[0m\u001b[0;34m\u001b[0m\u001b[0m\n\u001b[1;32m   1040\u001b[0m                 \u001b[0;32mreturn\u001b[0m \u001b[0mresponse\u001b[0m\u001b[0;34m,\u001b[0m \u001b[0mself\u001b[0m\u001b[0;34m.\u001b[0m\u001b[0m_create_connection_guard\u001b[0m\u001b[0;34m(\u001b[0m\u001b[0mconnection\u001b[0m\u001b[0;34m)\u001b[0m\u001b[0;34m\u001b[0m\u001b[0;34m\u001b[0m\u001b[0m\n",
            "\u001b[0;32m/usr/local/lib/python3.10/dist-packages/py4j/clientserver.py\u001b[0m in \u001b[0;36msend_command\u001b[0;34m(self, command)\u001b[0m\n\u001b[1;32m    509\u001b[0m         \u001b[0;32mtry\u001b[0m\u001b[0;34m:\u001b[0m\u001b[0;34m\u001b[0m\u001b[0;34m\u001b[0m\u001b[0m\n\u001b[1;32m    510\u001b[0m             \u001b[0;32mwhile\u001b[0m \u001b[0;32mTrue\u001b[0m\u001b[0;34m:\u001b[0m\u001b[0;34m\u001b[0m\u001b[0;34m\u001b[0m\u001b[0m\n\u001b[0;32m--> 511\u001b[0;31m                 \u001b[0manswer\u001b[0m \u001b[0;34m=\u001b[0m \u001b[0msmart_decode\u001b[0m\u001b[0;34m(\u001b[0m\u001b[0mself\u001b[0m\u001b[0;34m.\u001b[0m\u001b[0mstream\u001b[0m\u001b[0;34m.\u001b[0m\u001b[0mreadline\u001b[0m\u001b[0;34m(\u001b[0m\u001b[0;34m)\u001b[0m\u001b[0;34m[\u001b[0m\u001b[0;34m:\u001b[0m\u001b[0;34m-\u001b[0m\u001b[0;36m1\u001b[0m\u001b[0;34m]\u001b[0m\u001b[0;34m)\u001b[0m\u001b[0;34m\u001b[0m\u001b[0;34m\u001b[0m\u001b[0m\n\u001b[0m\u001b[1;32m    512\u001b[0m                 \u001b[0mlogger\u001b[0m\u001b[0;34m.\u001b[0m\u001b[0mdebug\u001b[0m\u001b[0;34m(\u001b[0m\u001b[0;34m\"Answer received: {0}\"\u001b[0m\u001b[0;34m.\u001b[0m\u001b[0mformat\u001b[0m\u001b[0;34m(\u001b[0m\u001b[0manswer\u001b[0m\u001b[0;34m)\u001b[0m\u001b[0;34m)\u001b[0m\u001b[0;34m\u001b[0m\u001b[0;34m\u001b[0m\u001b[0m\n\u001b[1;32m    513\u001b[0m                 \u001b[0;31m# Happens when a the other end is dead. There might be an empty\u001b[0m\u001b[0;34m\u001b[0m\u001b[0;34m\u001b[0m\u001b[0m\n",
            "\u001b[0;32m/usr/lib/python3.10/socket.py\u001b[0m in \u001b[0;36mreadinto\u001b[0;34m(self, b)\u001b[0m\n\u001b[1;32m    703\u001b[0m         \u001b[0;32mwhile\u001b[0m \u001b[0;32mTrue\u001b[0m\u001b[0;34m:\u001b[0m\u001b[0;34m\u001b[0m\u001b[0;34m\u001b[0m\u001b[0m\n\u001b[1;32m    704\u001b[0m             \u001b[0;32mtry\u001b[0m\u001b[0;34m:\u001b[0m\u001b[0;34m\u001b[0m\u001b[0;34m\u001b[0m\u001b[0m\n\u001b[0;32m--> 705\u001b[0;31m                 \u001b[0;32mreturn\u001b[0m \u001b[0mself\u001b[0m\u001b[0;34m.\u001b[0m\u001b[0m_sock\u001b[0m\u001b[0;34m.\u001b[0m\u001b[0mrecv_into\u001b[0m\u001b[0;34m(\u001b[0m\u001b[0mb\u001b[0m\u001b[0;34m)\u001b[0m\u001b[0;34m\u001b[0m\u001b[0;34m\u001b[0m\u001b[0m\n\u001b[0m\u001b[1;32m    706\u001b[0m             \u001b[0;32mexcept\u001b[0m \u001b[0mtimeout\u001b[0m\u001b[0;34m:\u001b[0m\u001b[0;34m\u001b[0m\u001b[0;34m\u001b[0m\u001b[0m\n\u001b[1;32m    707\u001b[0m                 \u001b[0mself\u001b[0m\u001b[0;34m.\u001b[0m\u001b[0m_timeout_occurred\u001b[0m \u001b[0;34m=\u001b[0m \u001b[0;32mTrue\u001b[0m\u001b[0;34m\u001b[0m\u001b[0;34m\u001b[0m\u001b[0m\n",
            "\u001b[0;31mKeyboardInterrupt\u001b[0m: "
          ]
        }
      ]
    }
  ]
}